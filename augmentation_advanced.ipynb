{
 "cells": [
  {
   "cell_type": "code",
   "execution_count": 1,
   "metadata": {},
   "outputs": [],
   "source": [
    "import os\n",
    "from PIL import Image\n",
    "from torchvision import transforms, datasets\n",
    "from torchvision.transforms.autoaugment import AutoAugment, AutoAugmentPolicy\n",
    "from torchvision.utils import save_image\n",
    "from concurrent.futures import ThreadPoolExecutor, as_completed\n",
    "from tqdm import tqdm"
   ]
  },
  {
   "cell_type": "code",
   "execution_count": 2,
   "metadata": {},
   "outputs": [],
   "source": [
    "copies_per_image = 3\n",
    "\n",
    "source_dir = \"archive/train\"\n",
    "target_dir = f\"archive/train_augment_advanced_{copies_per_image}_copies\"\n",
    "os.makedirs(target_dir, exist_ok=True)"
   ]
  },
  {
   "cell_type": "code",
   "execution_count": 3,
   "metadata": {},
   "outputs": [],
   "source": [
    "augment_transform = transforms.Compose([\n",
    "    transforms.Resize((32, 32)),\n",
    "    AutoAugment(policy=AutoAugmentPolicy.CIFAR10),\n",
    "    transforms.ToTensor()\n",
    "])"
   ]
  },
  {
   "cell_type": "code",
   "execution_count": 4,
   "metadata": {},
   "outputs": [
    {
     "name": "stdout",
     "output_type": "stream",
     "text": [
      "32\n"
     ]
    },
    {
     "name": "stderr",
     "output_type": "stream",
     "text": [
      "Advanced Augmentation: 100%|██████████| 90000/90000 [10:06<00:00, 148.50it/s]"
     ]
    },
    {
     "name": "stdout",
     "output_type": "stream",
     "text": [
      "Augment DONE.\n"
     ]
    },
    {
     "name": "stderr",
     "output_type": "stream",
     "text": [
      "\n"
     ]
    }
   ],
   "source": [
    "dataset = datasets.ImageFolder(source_dir)\n",
    "class_to_idx = dataset.class_to_idx\n",
    "idx_to_class = {v: k for k, v in class_to_idx.items()}\n",
    "\n",
    "for class_name in class_to_idx.keys():\n",
    "    os.makedirs(os.path.join(target_dir, class_name), exist_ok=True)\n",
    "\n",
    "def process_image(idx, img_path, label):\n",
    "    img = Image.open(img_path).convert(\"RGB\")\n",
    "    class_name = idx_to_class[label]\n",
    "    saved_paths = []\n",
    "\n",
    "    for i in range(copies_per_image):\n",
    "        augmented = augment_transform(img)\n",
    "        filename = f\"aug_{idx}_{i}.png\"\n",
    "        save_path = os.path.join(target_dir, class_name, filename)\n",
    "        save_image(augmented, save_path)\n",
    "        saved_paths.append(save_path)\n",
    "\n",
    "    return saved_paths\n",
    "\n",
    "max_workers = os.cpu_count() or 4\n",
    "print(max_workers)\n",
    "\n",
    "futures = []\n",
    "with ThreadPoolExecutor(max_workers=max_workers) as executor:\n",
    "    for idx, (img_path, label) in enumerate(dataset.imgs):\n",
    "        futures.append(executor.submit(process_image, idx, img_path, label))\n",
    "\n",
    "    for future in tqdm(as_completed(futures), total=len(futures), desc=\"Advanced Augmentation\"):\n",
    "        _ = future.result()\n",
    "\n",
    "print(\"Augment DONE.\")"
   ]
  }
 ],
 "metadata": {
  "kernelspec": {
   "display_name": "3.12.1",
   "language": "python",
   "name": "python3"
  },
  "language_info": {
   "codemirror_mode": {
    "name": "ipython",
    "version": 3
   },
   "file_extension": ".py",
   "mimetype": "text/x-python",
   "name": "python",
   "nbconvert_exporter": "python",
   "pygments_lexer": "ipython3",
   "version": "3.12.1"
  }
 },
 "nbformat": 4,
 "nbformat_minor": 2
}
